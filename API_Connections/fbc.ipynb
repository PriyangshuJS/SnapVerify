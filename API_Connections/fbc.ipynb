{
 "cells": [
  {
   "cell_type": "code",
   "execution_count": 1,
   "metadata": {},
   "outputs": [
    {
     "name": "stdout",
     "output_type": "stream",
     "text": [
      "Image saved to: swastik\\users%2FYlOLdp44L8eombjQAboXHdtXaEf1%2Fuploads%2F1706874833328000.jpg\n",
      "Image saved to: swastik\\users%2FCgEAkvaWjOURUSePaz87Bxqf3Uy2%2Fuploads%2F1706884176430000.jpg\n",
      "Image saved to: swastik\\users%2FwACIvxif92gvA3FLzJoOdIiW2Ay2%2Fuploads%2F1706871995429000.jpg\n",
      "Image saved to: swastik\\users%2FLp9g7VwPugThNNiuWlKuv1Q9IFV2%2Fuploads%2F1706884748264000.png\n"
     ]
    },
    {
     "name": "stderr",
     "output_type": "stream",
     "text": [
      "c:\\Users\\aishi\\AppData\\Local\\Programs\\Python\\Python311\\Lib\\site-packages\\google\\cloud\\firestore_v1\\base_collection.py:295: UserWarning: Detected filter using positional arguments. Prefer using the 'filter' keyword argument instead.\n",
      "  return query.where(field_path, op_string, value)\n"
     ]
    }
   ],
   "source": [
    "import firebase_admin\n",
    "from firebase_admin import credentials, firestore\n",
    "from PIL import Image\n",
    "import requests\n",
    "from io import BytesIO\n",
    "import os\n",
    "from urllib.parse import urlparse\n",
    "\n",
    "# Initialize Firebase\n",
    "cred1 = credentials.Certificate(\"C:/Users/aishi/OneDrive/Desktop/FR/snappy.json\")\n",
    "firebase_admin.initialize_app(cred1)\n",
    "db = firestore.client()\n",
    "\n",
    "def display_image_from_url(image_url, save_folder):\n",
    "    response = requests.get(image_url)\n",
    "    if response.status_code == 200:\n",
    "        image_data = response.content\n",
    "        img = Image.open(BytesIO(image_data))\n",
    "        if not os.path.exists(save_folder):\n",
    "            os.makedirs(save_folder)\n",
    "        filename = os.path.basename(urlparse(image_url).path)\n",
    "        save_path = os.path.join(save_folder, filename)\n",
    "        img.save(save_path)\n",
    "        print(f\"Image saved to: {save_path}\")\n",
    "        img.show()\n",
    "    else:\n",
    "        print(\"Failed to fetch image from URL:\", image_url)\n",
    "\n",
    "def get_all_docs(collection_name, field_name, save_folder):\n",
    "    docs = db.collection(collection_name).stream()\n",
    "    for doc in docs:\n",
    "        doc_data = doc.to_dict()\n",
    "        if field_name in doc_data:\n",
    "            image_url = doc_data[field_name]\n",
    "            display_image_from_url(image_url, save_folder)\n",
    "\n",
    "def get_docs_with_status(coll_name, s_value, field_name, save_folder):\n",
    "    query = db.collection(coll_name).where(\"Status\", \"==\", s_value).stream()\n",
    "    for doc in query:\n",
    "        doc_data = doc.to_dict()\n",
    "        if field_name in doc_data:\n",
    "            image_url = doc_data[field_name]\n",
    "            display_image_from_url(image_url, save_folder)\n",
    "\n",
    "# Example usage for \"users\" collection\n",
    "field_name = 'registration_photo'\n",
    "save_folder = \"swastik\"\n",
    "get_all_docs('users', field_name, save_folder)\n",
    "get_docs_with_status('users', 'some_value', field_name, save_folder)\n"
   ]
  }
 ],
 "metadata": {
  "kernelspec": {
   "display_name": "Python 3",
   "language": "python",
   "name": "python3"
  },
  "language_info": {
   "codemirror_mode": {
    "name": "ipython",
    "version": 3
   },
   "file_extension": ".py",
   "mimetype": "text/x-python",
   "name": "python",
   "nbconvert_exporter": "python",
   "pygments_lexer": "ipython3",
   "version": "3.11.5"
  }
 },
 "nbformat": 4,
 "nbformat_minor": 2
}
