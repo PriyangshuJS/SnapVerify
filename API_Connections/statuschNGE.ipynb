{
 "cells": [
  {
   "cell_type": "code",
   "execution_count": 1,
   "metadata": {},
   "outputs": [
    {
     "name": "stdout",
     "output_type": "stream",
     "text": [
      "Login request status updated to True for user vZEJxM0YCzdyXUhLgIEIFtGU1L43.\n"
     ]
    }
   ],
   "source": [
    "import firebase_admin\n",
    "from firebase_admin import credentials, firestore\n",
    "\n",
    "# Initialize Firebase\n",
    "cred1 = credentials.Certificate(\"C:/Users/aishi/OneDrive/Desktop/FR/snappy.json\")\n",
    "firebase_admin.initialize_app(cred1)\n",
    "db = firestore.client()\n",
    "\n",
    "def update_login_request_status(user_id, new_status):\n",
    "    doc_ref = db.collection('users').document(user_id)\n",
    "    doc_ref.update({'login_request': new_status})\n",
    "    print(f\"Login request status updated to {new_status} for user {user_id}.\")\n",
    "\n",
    "def main():\n",
    "    user_id = input(\"Enter the user ID: \")\n",
    "    login_request_input = input(\"Do you want to change the login request status to true? (yes/no): \").lower()\n",
    "    if login_request_input == 'yes':\n",
    "        update_login_request_status(user_id, True)\n",
    "    elif login_request_input == 'no':\n",
    "        print(\"Login request status remains unchanged.\")\n",
    "    else:\n",
    "        print(\"Invalid input. Login request status remains unchanged.\")\n",
    "\n",
    "if __name__ == \"__main__\":\n",
    "    main()\n"
   ]
  }
 ],
 "metadata": {
  "kernelspec": {
   "display_name": "Python 3",
   "language": "python",
   "name": "python3"
  },
  "language_info": {
   "codemirror_mode": {
    "name": "ipython",
    "version": 3
   },
   "file_extension": ".py",
   "mimetype": "text/x-python",
   "name": "python",
   "nbconvert_exporter": "python",
   "pygments_lexer": "ipython3",
   "version": "3.11.5"
  }
 },
 "nbformat": 4,
 "nbformat_minor": 2
}
